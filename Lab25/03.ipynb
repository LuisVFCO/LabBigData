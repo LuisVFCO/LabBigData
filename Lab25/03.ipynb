{
  "nbformat": 4,
  "nbformat_minor": 0,
  "metadata": {
    "colab": {
      "provenance": [],
      "authorship_tag": "ABX9TyPa3grrB7XXKxf5is1EdOkT",
      "include_colab_link": true
    },
    "kernelspec": {
      "name": "python3",
      "display_name": "Python 3"
    },
    "language_info": {
      "name": "python"
    }
  },
  "cells": [
    {
      "cell_type": "markdown",
      "metadata": {
        "id": "view-in-github",
        "colab_type": "text"
      },
      "source": [
        "<a href=\"https://colab.research.google.com/github/LuisVFCO/LabBigData/blob/main/Lab25/03.ipynb\" target=\"_parent\"><img src=\"https://colab.research.google.com/assets/colab-badge.svg\" alt=\"Open In Colab\"/></a>"
      ]
    },
    {
      "cell_type": "code",
      "source": [
        "import pandas as pd"
      ],
      "metadata": {
        "id": "SpMHxVHUpFKg"
      },
      "execution_count": null,
      "outputs": []
    },
    {
      "cell_type": "code",
      "source": [
        "import numpy as np"
      ],
      "metadata": {
        "id": "EqKCskIKpOxT"
      },
      "execution_count": null,
      "outputs": []
    },
    {
      "cell_type": "code",
      "source": [
        "import matplotlib.pyplot as plt"
      ],
      "metadata": {
        "id": "_purM5kOp84I"
      },
      "execution_count": null,
      "outputs": []
    },
    {
      "cell_type": "markdown",
      "source": [
        "Filmes indicados ao oscar 2024 mais bem avaliados pelo público (Segundo o site Rotten Tomatoes)."
      ],
      "metadata": {
        "id": "yWGTIbnFpAYO"
      }
    },
    {
      "cell_type": "code",
      "source": [
        "filmes = ['Ficção A.', 'Os Rejeitados', 'Oppenheimer', 'Anatomia de uma Queda', 'A.L. das Flores', 'Vidas Passadas', 'Barbie', 'Pobres Criaturas', 'Zona de Interesse', 'Maestro']"
      ],
      "metadata": {
        "id": "vZKjiGabpUn0"
      },
      "execution_count": 25,
      "outputs": []
    },
    {
      "cell_type": "code",
      "source": [
        "media = [96, 92, 91, 89, 84, 84, 83, 79, 78, 58]"
      ],
      "metadata": {
        "id": "4kmqu1JzpX8Z"
      },
      "execution_count": 22,
      "outputs": []
    },
    {
      "cell_type": "code",
      "source": [
        "serie1 = pd.Series(media, index=filmes)\n",
        "serie1"
      ],
      "metadata": {
        "colab": {
          "base_uri": "https://localhost:8080/"
        },
        "id": "dCNpW9c5payZ",
        "outputId": "5ac22af8-4bd4-4698-e9d2-855eeec7eee0"
      },
      "execution_count": 23,
      "outputs": [
        {
          "output_type": "execute_result",
          "data": {
            "text/plain": [
              "Ficção A.                96\n",
              "Os Rejeitados            92\n",
              "Oppenheimer              91\n",
              "Anatomia de uma Queda    89\n",
              "A.L. das Flores          84\n",
              "Vidas Passadas           84\n",
              "Barbie                   83\n",
              "Pobres Criaturas         79\n",
              "Zona de Interesse        78\n",
              "Maestro                  58\n",
              "dtype: int64"
            ]
          },
          "metadata": {},
          "execution_count": 23
        }
      ]
    },
    {
      "cell_type": "code",
      "source": [
        "serie1.plot()"
      ],
      "metadata": {
        "colab": {
          "base_uri": "https://localhost:8080/",
          "height": 447
        },
        "id": "lRiL3C61p_Lh",
        "outputId": "946dcc52-728d-4555-af9f-4b6a4263ae62"
      },
      "execution_count": 24,
      "outputs": [
        {
          "output_type": "execute_result",
          "data": {
            "text/plain": [
              "<Axes: >"
            ]
          },
          "metadata": {},
          "execution_count": 24
        },
        {
          "output_type": "display_data",
          "data": {
            "text/plain": [
              "<Figure size 640x480 with 1 Axes>"
            ],
            "image/png": "[encoded data removed]"
          },
          "metadata": {}
        }
      ]
    },
    {
      "cell_type": "markdown",
      "source": [
        "É possivel concluir, com o gráfico, as discrepâncias em relação as médias dos filmes indicados, onde o filme, Ficção Americana, lidera a lista com uma diferença de 5% em relação ao, próximo na tabela, Oppenheimer, este que por sua vez, mesmo com a disputa de popularidade entre seus fãns nas redes sociais contra o, também indicado, Barbie, se consagra nas médias gerais com uma diferença de 8% em relação ao seu concorrente."
      ],
      "metadata": {
        "id": "F0o4kHRc6_0i"
      }
    }
  ]
}